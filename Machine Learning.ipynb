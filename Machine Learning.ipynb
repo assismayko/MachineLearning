{
 "cells": [
  {
   "cell_type": "code",
   "execution_count": null,
   "id": "ac77f443-ff2e-431a-8956-43b27e468014",
   "metadata": {},
   "outputs": [],
   "source": [
    "!pip install seaborn"
   ]
  },
  {
   "cell_type": "code",
   "execution_count": null,
   "id": "28746dcc-dea9-4880-9ad1-07a5aca5af2e",
   "metadata": {},
   "outputs": [],
   "source": [
    "import pandas as pd\n",
    "import seaborn as sns"
   ]
  },
  {
   "cell_type": "code",
   "execution_count": null,
   "id": "6808b318-a303-478d-9721-76b7f86f2a11",
   "metadata": {},
   "outputs": [],
   "source": [
    "iris = sns.load_dataset(\"iris\")"
   ]
  },
  {
   "cell_type": "code",
   "execution_count": null,
   "id": "bb538e95-fc6f-4a6c-b4f6-532692131df6",
   "metadata": {},
   "outputs": [],
   "source": [
    "iris[\"species\"].value_counts()"
   ]
  },
  {
   "cell_type": "code",
   "execution_count": null,
   "id": "12db787f-0ec5-4cd3-af39-efc98e8d7747",
   "metadata": {},
   "outputs": [],
   "source": [
    "sns.pairplot(iris, hue = \"species\")"
   ]
  },
  {
   "cell_type": "code",
   "execution_count": null,
   "id": "c5797c1b-4fe5-4a7e-93df-2a7d7a68459d",
   "metadata": {},
   "outputs": [],
   "source": [
    "titanic = sns.load_dataset(\"titanic\")"
   ]
  },
  {
   "cell_type": "code",
   "execution_count": null,
   "id": "e2982244-148e-44fd-93c9-22c3ddb47087",
   "metadata": {},
   "outputs": [],
   "source": [
    "titanic"
   ]
  },
  {
   "cell_type": "code",
   "execution_count": null,
   "id": "b2c1aef3-5330-4d36-a6b3-f4fe65c5ea78",
   "metadata": {},
   "outputs": [],
   "source": [
    "titanic[\"who\"].value_counts()"
   ]
  },
  {
   "cell_type": "code",
   "execution_count": null,
   "id": "6eee70e0-d7b8-483b-ad1f-3f373740f423",
   "metadata": {},
   "outputs": [],
   "source": [
    "sns.pairplot(titanic, hue = \"who\")"
   ]
  }
 ],
 "metadata": {
  "kernelspec": {
   "display_name": "Python 3 (ipykernel)",
   "language": "python",
   "name": "python3"
  },
  "language_info": {
   "codemirror_mode": {
    "name": "ipython",
    "version": 3
   },
   "file_extension": ".py",
   "mimetype": "text/x-python",
   "name": "python",
   "nbconvert_exporter": "python",
   "pygments_lexer": "ipython3",
   "version": "3.11.7"
  }
 },
 "nbformat": 4,
 "nbformat_minor": 5
}
